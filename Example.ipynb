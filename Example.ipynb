{
  "nbformat": 4,
  "nbformat_minor": 0,
  "metadata": {
    "colab": {
      "provenance": [],
      "authorship_tag": "ABX9TyM3u/o7o2gw+5ZAenejvbys",
      "include_colab_link": true
    },
    "kernelspec": {
      "name": "python3",
      "display_name": "Python 3"
    },
    "language_info": {
      "name": "python"
    }
  },
  "cells": [
    {
      "cell_type": "markdown",
      "metadata": {
        "id": "view-in-github",
        "colab_type": "text"
      },
      "source": [
        "<a href=\"https://colab.research.google.com/github/guillametlucia/NMD_scorer/blob/main/Example.ipynb\" target=\"_parent\"><img src=\"https://colab.research.google.com/assets/colab-badge.svg\" alt=\"Open In Colab\"/></a>"
      ]
    },
    {
      "cell_type": "code",
      "execution_count": null,
      "metadata": {
        "id": "mJ8J5yYoj_cz"
      },
      "outputs": [],
      "source": [
        "import os\n",
        "import numpy as np\n",
        "import pandas as pd\n",
        "import gc\n",
        "import torch\n",
        "from torch import nn,optim\n",
        "import torch.nn.functional as F\n",
        "from torch.utils.data import Dataset\n",
        "from torch.utils.data import DataLoader\n",
        "# If using CUDA\n",
        "from torch.amp import autocast, GradScaler\n",
        "\n",
        "# Import model class from NMDscorer.py\n",
        "from NMDscorer import NMDscorer\n",
        "\n"
      ]
    },
    {
      "cell_type": "markdown",
      "source": [
        "Data"
      ],
      "metadata": {
        "id": "deoBu3z3khPj"
      }
    },
    {
      "cell_type": "code",
      "source": [
        "def load_data(file_path):\n",
        "    dataset = pd.read_csv(file_path)\n",
        "    # One-hot encode the sequences\n",
        "    dataset['EnsembleSequence'] = dataset['EnsembleSequence'].apply(one_hot_encode)\n",
        "    return dataset\n",
        "\n",
        "class PadToLength(nn.Module):\n",
        "    def __init__(self, target_length: int):\n",
        "        super().__init__()\n",
        "        self.target_length = target_length\n",
        "\n",
        "    def forward(self, x: torch.Tensor):\n",
        "        seq_len, target_len = x.shape[-1], self.target_length\n",
        "\n",
        "        if seq_len < target_len:\n",
        "            # Pad the sequence to the target length\n",
        "            padding = target_len - seq_len\n",
        "            left_pad = padding // 2\n",
        "            right_pad = padding - left_pad\n",
        "            x = F.pad(x, (left_pad, right_pad), value=0)\n",
        "            mask = torch.zeros(seq_len, dtype=torch.float32)\n",
        "            mask = F.pad(mask, (left_pad, right_pad), value=1.0)\n",
        "            return x, mask\n",
        "        else:\n",
        "            # If no padding is needed, return the original tensor and a mask of ones\n",
        "            mask = torch.ones(x.shape[:-1], dtype=torch.float32)\n",
        "            return x, mask\n",
        "\n",
        "class NMDscorerDataset(Dataset):\n",
        "    \"\"\"\n",
        "    PyTorch Dataset for NMD Scorer.\n",
        "    \"\"\"\n",
        "    def __init__(self, dataframe, target_length=20000):\n",
        "        \"\"\"\n",
        "        Initialize the dataset with the given data.\n",
        "\n",
        "        dataframe : pd.DataFrame\n",
        "\n",
        "        \"\"\"\n",
        "        self.target_length = PadToLength(target_length)\n",
        "        dataframe.loc[:, 'EnsembleSequence'] = dataframe['EnsembleSequence'].apply(lambda x: torch.tensor(x, dtype=torch.int64))\n",
        "        self.X = dataframe['EnsembleSequence'].values\n",
        "        self.y = torch.tensor(dataframe['NES'].values, dtype=torch.float32)\n",
        "    def __len__(self):\n",
        "        \"\"\"\n",
        "        Get the number of samples in the dataset.\n",
        "\n",
        "        Returns\n",
        "        -------\n",
        "        int\n",
        "            Number of samples.\n",
        "        \"\"\"\n",
        "        return len(self.y)\n",
        "\n",
        "    def __getitem__(self, idx):\n",
        "        \"\"\"\n",
        "        Get the item at the given index.\n",
        "        Parameters\n",
        "        ----------\n",
        "        idx : int\n",
        "            Index of the item.\n",
        "\n",
        "        Returns\n",
        "        -------\n",
        "        tuple\n",
        "            Tuple containing the feature matrix and the target vector.\n",
        "        \"\"\"\n",
        "        sequence = self.X[idx]\n",
        "        # Pad sequence if needed. Create mask\n",
        "        padded_sequence , mask = self.target_length(sequence)\n",
        "        return padded_sequence , mask, self.y[idx]"
      ],
      "metadata": {
        "id": "EN9OW3YNklbr"
      },
      "execution_count": null,
      "outputs": []
    },
    {
      "cell_type": "markdown",
      "source": [
        "#Train model (can add torch.profiler to investigate memory usage. Useful if hardware limitations).\n",
        "\n",
        "#TODO : add clipval"
      ],
      "metadata": {
        "id": "lit2gk_qkwQu"
      }
    },
    {
      "cell_type": "code",
      "source": [
        "\n",
        "\n",
        "def train_scorer(model, clip_val, train_dataloader, epochs, device, max_steps = 150000):\n",
        "    \"\"\"\n",
        "    Fit the model according to the given training data.\n",
        "    Parameters\n",
        "    ----------\n",
        "    train_dataloader : DataLoader\n",
        "        DataLoader for the training data.\n",
        "    \"\"\"\n",
        "    model.train()\n",
        "\n",
        "    # Define optimizer and loss function\n",
        "    optimizer = optim.Adam(model.parameters(), lr=0.0005, betas=(0.9, 0.999), eps=1e-8)\n",
        "    criterion = nn.MSELoss()\n",
        "\n",
        "    def lr_lambda(step):\n",
        "        if step < 5000:\n",
        "            return step / 5000\n",
        "        return 1.0\n",
        "\n",
        "    scheduler = optim.lr_scheduler.LambdaLR(optimizer, lr_lambda)\n",
        "    patience = 5\n",
        "    min_delta = 0.001\n",
        "    best_loss = np.inf\n",
        "    counter = 0\n",
        "    step = 0\n",
        "    early_stop = False\n",
        "    scaler = GradScaler() if torch.cuda.is_available() else None\n",
        "\n",
        "    for epoch in range(epochs):\n",
        "        logging.info(f\"Epoch {epoch + 1}/{epochs}\")\n",
        "        if step <= max_steps:\n",
        "            for batch_idx, (X_train, mask_train, y_train) in enumerate(train_dataloader):\n",
        "                X_train, mask_train, y_train = X_train.to(device), mask_train.to(device), y_train.to(device)\n",
        "                X_train = X_train.float()\n",
        "\n",
        "                optimizer.zero_grad()\n",
        "\n",
        "                if scaler is not None:\n",
        "                    with autocast():\n",
        "                        output = model(X_train, mask_train)\n",
        "                        loss = criterion(output, y_train)\n",
        "                        scaler.scale(loss).backward()\n",
        "\n",
        "                else:\n",
        "                    output = model(X_train, mask_train)\n",
        "                    loss = criterion(output, y_train)\n",
        "                    loss.backward()\n",
        "\n",
        "                # Gradient clipping\n",
        "                torch.nn.utils.clip_grad_norm_(model.parameters(), clip_val, error_if_nonfinite=True)\n",
        "\n",
        "                if scaler is not None:\n",
        "                    scaler.step(optimizer)\n",
        "                    scaler.update()\n",
        "                else:\n",
        "                    optimizer.step()\n",
        "\n",
        "                scheduler.step()\n",
        "\n",
        "                step += 1\n",
        "\n",
        "                del X_train, mask_train, y_train, output\n",
        "                gc.collect()\n",
        "\n",
        "        best_loss = min(best_loss, loss.item())\n",
        "        if epoch + 1 % 5 == 0:\n",
        "            logging.info(f\"Epoch {epoch + 1}/{epochs}, Step {step}, Loss: {loss.item()}\")\n",
        "            if loss.item() - best_loss > min_delta:\n",
        "                counter +=1\n",
        "                if counter >= patience:\n",
        "                    early_stop = True\n",
        "            else:\n",
        "                counter = 0\n",
        "            early_stop = False\n",
        "        if early_stop:\n",
        "            logging.info(f\"Early stopping at Epoch {epoch + 1}/{epochs}, Step {step}, Loss: {loss.item()}, Best loss was {best_loss} at epoch {epoch - patience + 1}\")\n",
        "            break\n",
        "        if torch.cuda.is_available():\n",
        "            torch.cuda.empty_cache()\n",
        "    # Save model\n",
        "    torch.save(model.state_dict(), PTH)\n",
        "    #PTH =  path ending in .pth to save trained model"
      ],
      "metadata": {
        "id": "u2GvAN__kxIG"
      },
      "execution_count": null,
      "outputs": []
    },
    {
      "cell_type": "markdown",
      "source": [
        "#Model evaluation: calculate loss and save averaged attention matrices for interpretability."
      ],
      "metadata": {
        "id": "doojjkeYoobH"
      }
    },
    {
      "cell_type": "code",
      "source": [
        "def predict_scorer(model, dataloader, device):\n",
        "  model.eval()\n",
        "  valid_loss = 0\n",
        "  criterion = nn.MSELoss()\n",
        "  predictions = []\n",
        "  attention_matrices = []\n",
        "  mask_indices = []\n",
        "\n",
        "\n",
        "  with torch.no_grad():\n",
        "      for batch_idx, (X_valid, mask_valid, y_valid) in enumerate(valid_dataloader):\n",
        "        X_valid, mask_valid, y_valid = X_valid.to(device), mask_valid.to(device), y_valid.to(device)\n",
        "        X_valid = X_valid.float()\n",
        "        predict, attention_weights, indices = model(X_valid, mask_valid)\n",
        "        predictions.append(predict)\n",
        "        attention_matrices.append(attention_weights)\n",
        "        mask_indices.append(indices)\n",
        "        valid_loss += criterion(predict, y_valid).item()\n",
        "\n",
        "        del X_valid, mask_valid, y_valid, predict\n",
        "        if torch.cuda.is_available():\n",
        "            torch.cuda.empty_cache()\n",
        "\n",
        "  print(f'Validation loss is {valid_loss/len(valid_dataloader)}')\n",
        "\n",
        "  # Save predictions attention matrices and mask indices, to then visualize the attention weights\n",
        "\n",
        "  predictions = torch.cat(predictions, dim=0)\n",
        "  attention_matrices = torch.cat(attention_matrices, dim=0)\n",
        "  mask_indices = torch.cat(mask_indices, dim=0)\n",
        "\n",
        "  # Save the tensors\n",
        "  #test_path = path to save results\n",
        "  torch.save(predictions, f'{test_path}predictions.pt')\n",
        "  torch.save(attention_matrices, f'{test_path}attention_matrices.pt')\n",
        "  torch.save(mask_indices, f'{test_path}mask_indices.pt')\n"
      ],
      "metadata": {
        "id": "KxlBgZsckwBz"
      },
      "execution_count": null,
      "outputs": []
    },
    {
      "cell_type": "markdown",
      "source": [
        "#Model intepretation"
      ],
      "metadata": {
        "id": "e9x0Nw0MsLGm"
      }
    },
    {
      "cell_type": "code",
      "source": [
        "def interpret(attention_matrices)\n",
        "\n",
        "\n",
        "\n",
        "# weight"
      ],
      "metadata": {
        "id": "S2hEZ1HPsNLF"
      },
      "execution_count": null,
      "outputs": []
    },
    {
      "cell_type": "code",
      "source": [
        "def __main__():\n",
        "  device = torch.device(\"cuda\" if torch.cuda.is_available() else \"cpu\")\n",
        "  batch_size = 128\n",
        "  # Load data\n",
        "  #training_path and evaluation_path\n",
        "  train_dataset = load_data(training_path)\n",
        "  eval_dataset = load_data(evaluation_path)\n",
        "  torch_train_dataset = NMDscorerDataset(train_dataset)\n",
        "  torch_eval_dataset = NMDscorerDataset(eval_dataset)\n",
        "  train_dataloader = DataLoader(torch_train_dataset, batch_size=batch_size, shuffle=True)\n",
        "  eval_dataloader = DataLoader(torch_eval_dataset, batch_size=batch_size, shuffle=False)\n",
        "\n",
        "  # Initialize model\n",
        "  model = NMDscorer(channels= 1152,\n",
        "                        num_heads=8,\n",
        "                        num_conv=6,\n",
        "                        window_size=128,\n",
        "                        num_transformer=11,\n",
        "                        dropout_rate=0.1,\n",
        "                        attention_dropout_rate=0.05,\n",
        "                        positional_dropout_rate=0.03,\n",
        "                        key_size=128,\n",
        "                        relative_position_functions=['positional_features_exponential',\n",
        "                                                      'positional_features_central_mask',\n",
        "                                                      'positional_features_gamma'])\n",
        "\n",
        "\n",
        "\n",
        "  #Check if multiple GPUs are available and wrap the model with DataParallel if so\n",
        "  if torch.cuda.device_count() > 1:\n",
        "      model = torch.nn.DataParallel(model)\n",
        "  model = model.to(device)\n",
        "\n",
        "  # Train\n",
        "  train_scorer(model, clip_val, train_dataloader, epochs, device)\n",
        "\n",
        "\n",
        "  # Load model\n",
        "  checkpoint = torch.load(f'{DATABASE_PATH}trained_on_all_folds_MODELNAME.pth')\n",
        "  model.load_state_dict(checkpoint)\n",
        "\n",
        "  # Evaluate\n",
        "  predict_scorer(model, eval_dataloader, device)\n"
      ],
      "metadata": {
        "id": "s4KZ-63apEoz"
      },
      "execution_count": null,
      "outputs": []
    },
    {
      "cell_type": "code",
      "source": [
        "if __name__ == \"__main__\":\n",
        "    __main__()"
      ],
      "metadata": {
        "id": "cywWZLlNsD1C"
      },
      "execution_count": null,
      "outputs": []
    }
  ]
}